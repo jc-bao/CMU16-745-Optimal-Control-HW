{
 "cells": [
  {
   "cell_type": "markdown",
   "id": "99ce54b9",
   "metadata": {},
   "source": [
    "Fill out project proposal form: [https://forms.gle/mqdpazLZ2ZnapAeCA](https://forms.gle/mqdpazLZ2ZnapAeCA)"
   ]
  },
  {
   "cell_type": "markdown",
   "id": "0fc1063d",
   "metadata": {},
   "source": [
    "List the names of your group members (up to 5)\n",
    "\n",
    "Chaoyi Pan, Tairan He, Wenli Xiao, Guofei Chen, Yogita Choudhary\n",
    "\n",
    "List the emails of your group members (up to 5)\n",
    "\n",
    "chaoyip@andrew.cmu.edu, tairanh@andrew.cmu.edu, wxiao2@andrew.cmu.edu, guofeic@andrew.cmu.edu, ychoudha@andrew.cmu.edu\n",
    "\n",
    "Provide a brief high-level description of what you'd like to work on for your project\n",
    "\n",
    "We would like to work on a project that combining learning and control to achieve adaptive drone slung transportation. The system is challenge due to it is hybrid (switching between rope taut and slack) and highly underactuated. Also, the control performance would be sensitive to environment parameters like the wind speed and the payload weight. We would like to use optimal control to generate the trajectory and learning-based method to adapt to the environment.\n",
    "\n",
    "What baseline solutions already exist for this problem?\n",
    "\n",
    "Papers like Aerial Slung-Load Position Tracking Under Unknown Wind Forces and Reduced-Complexity Active Disturbance Rejection Controller for Quadrotor-Slung-Load Transportation leverage the differential flatness of the system to generate the trajectory and use robust control to compensate the disturbance. However, in real-world applications, attaching point might not go through the center of mass, and the payload weight might not be known. This implies we need more dedicated planning and control to accomplish the task and adapt to the environment.\n",
    "\n",
    "Provide 1 or 2 references that you've consulted on the problem you want to work on.\n",
    "\n",
    "Aggressive Flight With Suspended Payloads Using Vision-Based Control\n",
    "Aerial Slung-Load Position Tracking Under Unknown Wind Forces\n",
    "\n",
    "What control techniques do you plan to use?\n",
    "\n",
    "We plan to use optimal control to generate the trajectory and learning-based method to adapt to the environment.\n",
    "\n",
    "What will you actually implement? Is there existing software you can leverage?\n",
    "\n",
    "We will first implement the dynamics of the drone and the payload by considering the case when attached point is not through the center of mass. Then we will implement the optimal control to generate the trajectory and related tracking MPC controller. We will also implement the learning-based method to adapt to the environment. We can refer to the modelling in the previous paper but the major difference would be we consider the case when the attached slung will affect the attitude control of the drone.\n",
    "\n",
    "How will you evaluate your solution?\n",
    "\n",
    "We might evaluate the tracking performance in our built simulation environment. We might also evaluate the robustness of the system by testing in the real-world environment."
   ]
  }
 ],
 "metadata": {
  "kernelspec": {
   "display_name": "Julia 1.6.7",
   "language": "julia",
   "name": "julia-1.6"
  },
  "language_info": {
   "file_extension": ".jl",
   "mimetype": "application/julia",
   "name": "julia",
   "version": "1.6.7"
  }
 },
 "nbformat": 4,
 "nbformat_minor": 5
}
